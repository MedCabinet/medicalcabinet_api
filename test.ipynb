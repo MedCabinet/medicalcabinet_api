{
 "cells": [
  {
   "cell_type": "code",
   "execution_count": 11,
   "metadata": {},
   "outputs": [],
   "source": [
    "import requests\n",
    "import json"
   ]
  },
  {
   "cell_type": "code",
   "execution_count": 31,
   "metadata": {},
   "outputs": [
    {
     "name": "stdout",
     "output_type": "stream",
     "text": [
      "request responded: <Response [200]>.\n",
      "the content of the response was {'Strain': {'0': '100-Og', '1': '98-White-Widow', '2': '1024', '3': '13-Dawgs', '4': '24K-Gold'}, 'Type': {'0': 'hybrid', '1': 'hybrid', '2': 'sativa', '3': 'hybrid', '4': 'hybrid'}, 'Rating': {'0': 4.0, '1': 4.7, '2': 4.4, '3': 4.2, '4': 4.6}, 'Effects': {'0': 'Creative,Energetic,Tingly,Euphoric,Relaxed', '1': 'Relaxed,Aroused,Creative,Happy,Energetic', '2': 'Uplifted,Happy,Relaxed,Energetic,Creative', '3': 'Tingly,Creative,Hungry,Relaxed,Uplifted', '4': 'Happy,Relaxed,Euphoric,Uplifted,Talkative'}, 'Flavor': {'0': 'Earthy,Sweet,Citrus', '1': 'Flowery,Violet,Diesel', '2': 'Spicy/Herbal,Sage,Woody', '3': 'Apricot,Citrus,Grapefruit', '4': 'Citrus,Earthy,Orange'}, 'Description': {'0': '$100 OG is a 50/50 hybrid strain that packs a strong punch. The name supposedly refers to both its strength and high price when it first started showing up in Hollywood. As a plant, $100 OG tends to produce large dark green buds with few stems. Users report a strong body effect of an indica for pain relief with the more alert, cerebral feeling thanks to its sativa side.', '1': 'The ‘98 Aloha White Widow is an especially potent cut of White Widow that has grown in renown alongside Hawaiian legends like Maui Wowie and Kona Gold. This White Widow phenotype reeks of diesel and skunk and has a rich earthy taste with intermittent notes of hash. Its buds are coated in trichomes, giving its dark foliage a lustrous glint to go along with its room-filling odor. This one-hitter-quitter uplifts the mind with mind-bending euphoria that materializes in the body as airy relaxation. ‘98 Aloha White Widow is available from Pua Mana 1st Hawaiian Pakalōlō Seed Bank. \\xa0', '2': '1024 is a sativa-dominant hybrid bred in Spain by Medical Seeds Co. The breeders claim to guard the secret genetics due to security reasons, but regardless of its genetic heritage, 1024 is a THC powerhouse with a sweet and spicy bouquet. Subtle fruit flavors mix with an herbal musk to produce uplifting sativa effects. One specific phenotype is noted for having a pungent odor that fills a room, similar to burning incense.', '3': '13 Dawgs is a hybrid of G13 and Chemdawg genetics bred by Canadian LP Delta 9 BioTech. The two potent strains mix to create a balance between indica and sativa effects. 13 Dawgs has a sweet earthy musk that brings a blend of woody\\xa0citrus flavors. The effects of 13 Dawgs induce a happy, relaxed body buzz with a creative and focused mind that counters depression and stimulates the appetite.', '4': 'Also known as Kosher Tangie, 24k Gold is a 60% indica-dominant hybrid that combines the legendary LA strain Kosher Kush with champion sativa Tangie to create something quite unique. Growing tall in its vegetative cycle and very stretchy in flower, this one will need an experienced hand when grown indoors. Most phenotypes will exhibit a sweet orange aroma from the Tangie along with the dark coloration of the Kosher Kush, and will offer a strong citrus flavor when smoked or vaped. THC levels range from 18% to 24%; definitely not for novice users!\\xa0'}, 'score': {'0': 0.8958629381, '1': 0.9835731748, '2': 0.9267263907, '3': 0.8898603618, '4': 0.9143115221}}\n"
     ]
    }
   ],
   "source": [
    "url = \"https://medcab3-api.herokuapp.com/strains\" \n",
    "\n",
    "# this assumes that the agreed upon json key is `input` \n",
    "val = {'input': \"text, Relaxed, Violet, Aroused, Creative, Happy, Energetic, Flowery, Diesel\"} # '' is used within a route like a dictionary key\n",
    "r_success = requests.post(url, data=json.dumps(val))\n",
    "\n",
    "print(f\"request responded: {r_success}.\\nthe content of the response was {r_success.json()}\")\n",
    "# you'll get a 200 response if the keys align, and something bad if the keys don't align. "
   ]
  }
 ],
 "metadata": {
  "kernelspec": {
   "display_name": "Python 3",
   "language": "python",
   "name": "python3"
  },
  "language_info": {
   "codemirror_mode": {
    "name": "ipython",
    "version": 3
   },
   "file_extension": ".py",
   "mimetype": "text/x-python",
   "name": "python",
   "nbconvert_exporter": "python",
   "pygments_lexer": "ipython3",
   "version": "3.7.4"
  }
 },
 "nbformat": 4,
 "nbformat_minor": 2
}
